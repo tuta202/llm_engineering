{
 "cells": [
  {
   "cell_type": "markdown",
   "id": "046fd8f8-ad14-4c7f-b759-fec52f5b5306",
   "metadata": {},
   "source": [
    "# The Price is Right\n",
    "\n",
    "Today we build a more complex solution for estimating prices of goods.\n",
    "\n",
    "1. This notebook: create a RAG database with our 400,000 training data\n",
    "2. Day 2.1 notebook: visualize in 2D\n",
    "3. Day 2.2 notebook: visualize in 3D\n",
    "4. Day 2.3 notebook: build and test a RAG pipeline with GPT-4o-mini\n",
    "5. Day 2.4 notebook: (a) bring back our Random Forest pricer (b) Create a Ensemble pricer that allows contributions from all the pricers\n",
    "\n",
    "Phew! That's a lot to get through in one day!\n",
    "\n",
    "## PLEASE NOTE:\n",
    "\n",
    "We already have a very powerful product estimator with our proprietary, fine-tuned LLM. Most people would be very satisfied with that! The main reason we're adding these extra steps is to deepen your expertise with RAG and with Agentic workflows.\n"
   ]
  },
  {
   "cell_type": "code",
   "execution_count": 1,
   "id": "993a2a24-1a58-42be-8034-6d116fb8d786",
   "metadata": {},
   "outputs": [
    {
     "name": "stderr",
     "output_type": "stream",
     "text": [
      "C:\\Users\\trananhtu\\AppData\\Local\\anaconda3\\envs\\llms\\Lib\\site-packages\\torchvision\\io\\image.py:13: UserWarning: Failed to load image Python extension: '[WinError 127] The specified procedure could not be found'If you don't plan on using image functionality from `torchvision.io`, you can ignore this warning. Otherwise, there might be something wrong with your environment. Did you have `libjpeg` or `libpng` installed before building `torchvision` from source?\n",
      "  warn(\n"
     ]
    }
   ],
   "source": [
    "# imports\n",
    "\n",
    "import os\n",
    "os.environ[\"KMP_DUPLICATE_LIB_OK\"] = \"TRUE\"\n",
    "import re\n",
    "import math\n",
    "import json\n",
    "from tqdm import tqdm\n",
    "import random\n",
    "from dotenv import load_dotenv\n",
    "from huggingface_hub import login\n",
    "import numpy as np\n",
    "import pickle\n",
    "from sentence_transformers import SentenceTransformer\n",
    "from datasets import load_dataset\n",
    "import chromadb\n",
    "from sklearn.manifold import TSNE\n",
    "import plotly.graph_objects as go"
   ]
  },
  {
   "cell_type": "code",
   "execution_count": 2,
   "id": "2359ccc0-dbf2-4b1e-9473-e472b32f548b",
   "metadata": {},
   "outputs": [
    {
     "name": "stdout",
     "output_type": "stream",
     "text": [
      "Azure OpenAI API Key exists and begins 75Ro1MBh\n"
     ]
    }
   ],
   "source": [
    "# environment\n",
    "\n",
    "load_dotenv(override=True)\n",
    "os.environ['HF_TOKEN'] = os.getenv('HF_TOKEN', 'your-key-if-not-using-env')\n",
    "DB = \"products_vectorstore\"\n",
    "\n",
    "azure_openai_api_key = os.getenv('AZURE_OPENAI_API_KEY')\n",
    "azure_openai_api_endpoint = os.getenv('AZURE_OPENAI_API_ENDPOINT')\n",
    "if azure_openai_api_key:\n",
    "    print(f\"Azure OpenAI API Key exists and begins {azure_openai_api_key[:8]}\")\n",
    "else:\n",
    "    print(\"Azure OpenAI API Key not set\") "
   ]
  },
  {
   "cell_type": "code",
   "execution_count": 3,
   "id": "645167e6-cf0d-42d2-949f-1089a25a2841",
   "metadata": {},
   "outputs": [
    {
     "name": "stderr",
     "output_type": "stream",
     "text": [
      "Note: Environment variable`HF_TOKEN` is set and is the current active token independently from the token you've just configured.\n"
     ]
    }
   ],
   "source": [
    "# Log in to HuggingFace\n",
    "\n",
    "hf_token = os.environ['HF_TOKEN']\n",
    "login(hf_token, add_to_git_credential=True)"
   ]
  },
  {
   "cell_type": "code",
   "execution_count": 4,
   "id": "8491f550-df4a-4c8f-a260-a7a419e8efb6",
   "metadata": {},
   "outputs": [],
   "source": [
    "# Another import after Logging in to Hugging Face - thank you Trung N.!\n",
    "\n",
    "from items import Item"
   ]
  },
  {
   "cell_type": "markdown",
   "id": "3d4995a4-f67f-4871-87df-8c6439b06366",
   "metadata": {},
   "source": [
    "## Back to the pkl files\n",
    "\n",
    "Much as we enjoyed data curating in week 6, we probably don't want to go through that whole process again!\n",
    "\n",
    "Let's reuse the pkl files we created then. Either copy the files `train.pkl` and `test.pkl` from the Week 6 folder into this Week 8 folder, or you can also download them from here:\n",
    "\n",
    "https://drive.google.com/drive/folders/1f_IZGybvs9o0J5sb3xmtTEQB3BXllzrW?usp=drive_link"
   ]
  },
  {
   "cell_type": "code",
   "execution_count": 5,
   "id": "688bd995-ec3e-43cd-8179-7fe14b275877",
   "metadata": {},
   "outputs": [],
   "source": [
    "# With train.pkl in this folder, you can run this:\n",
    "\n",
    "with open('train.pkl', 'rb') as file:\n",
    "    train = pickle.load(file)"
   ]
  },
  {
   "cell_type": "code",
   "execution_count": 6,
   "id": "2817eaf5-4302-4a18-9148-d1062e3b3dbb",
   "metadata": {},
   "outputs": [
    {
     "data": {
      "text/plain": [
       "'How much does this cost to the nearest dollar?\\n\\nDelphi FG0166 Fuel Pump Module\\nDelphi brings 80 years of OE Heritage into each Delphi pump, ensuring quality and fitment for each Delphi part. Part is validated, tested and matched to the right vehicle application Delphi brings 80 years of OE Heritage into each Delphi assembly, ensuring quality and fitment for each Delphi part Always be sure to check and clean fuel tank to avoid unnecessary returns Rigorous OE-testing ensures the pump can withstand extreme temperatures Brand Delphi, Fit Type Vehicle Specific Fit, Dimensions LxWxH 19.7 x 7.7 x 5.1 inches, Weight 2.2 Pounds, Auto Part Position Unknown, Operation Mode Mechanical, Manufacturer Delphi, Model FUEL PUMP, Dimensions 19.7\\n\\nPrice is $227.00'"
      ]
     },
     "execution_count": 6,
     "metadata": {},
     "output_type": "execute_result"
    }
   ],
   "source": [
    "train[0].prompt"
   ]
  },
  {
   "cell_type": "markdown",
   "id": "9ae1ba16-7e80-4096-ac88-64ef8edcc80c",
   "metadata": {},
   "source": [
    "# Now create a Chroma Datastore\n",
    "\n",
    "In Week 5, we created a Chroma datastore with 123 documents representing chunks of objects from our fictional company Insurellm.\n",
    "\n",
    "Now we will create a Chroma datastore with 400,000 products from our training dataset! It's getting real!\n",
    "\n",
    "Note that we won't be using LangChain, but the API is very straightforward and consistent with before.\n",
    "\n",
    "Special note: if Chroma crashes and you're a Windows user, you should try rolling back to an earlier version of the Chroma library with:  \n",
    "`!pip install chromadb==0.5.0`  \n",
    "With many thanks to student Kelly Z. for finding this out and pointing to the GitHub issue [here](https://github.com/chroma-core/chroma/issues/2513). \n",
    "But try first without reverting Chroma."
   ]
  },
  {
   "cell_type": "code",
   "execution_count": 7,
   "id": "f4aab95e-d719-4476-b6e7-e248120df25a",
   "metadata": {},
   "outputs": [],
   "source": [
    "client = chromadb.PersistentClient(path=DB)"
   ]
  },
  {
   "cell_type": "code",
   "execution_count": 9,
   "id": "5f95dafd-ab80-464e-ba8a-dec7a2424780",
   "metadata": {},
   "outputs": [
    {
     "name": "stdout",
     "output_type": "stream",
     "text": [
      "Deleted existing collection: products\n"
     ]
    }
   ],
   "source": [
    "# Check if the collection exists and delete it if it does\n",
    "collection_name = \"products\"\n",
    "\n",
    "# For old versions of Chroma, use this line instead of the subsequent one\n",
    "existing_collection_names = [collection.name for collection in client.list_collections()]\n",
    "# existing_collection_names = client.list_collections()\n",
    "\n",
    "if collection_name in existing_collection_names:\n",
    "    client.delete_collection(collection_name)\n",
    "    print(f\"Deleted existing collection: {collection_name}\")\n",
    "\n",
    "collection = client.create_collection(collection_name)"
   ]
  },
  {
   "cell_type": "markdown",
   "id": "d392ed28-203d-4e73-be87-ac1390bdf722",
   "metadata": {},
   "source": [
    "# Introducing the SentenceTransfomer\n",
    "\n",
    "The all-MiniLM is a very useful model from HuggingFace that maps sentences & paragraphs to a 384 dimensional dense vector space and is ideal for tasks like semantic search.\n",
    "\n",
    "https://huggingface.co/sentence-transformers/all-MiniLM-L6-v2\n",
    "\n",
    "It can run pretty quickly locally.\n",
    "\n",
    "Last time we used OpenAI embeddings to produce vector embeddings. Benefits compared to OpenAI embeddings:\n",
    "1. It's free and fast!\n",
    "3. We can run it locally, so the data never leaves our box - might be useful if you're building a personal RAG\n"
   ]
  },
  {
   "cell_type": "code",
   "execution_count": 10,
   "id": "a87db200-d19d-44bf-acbd-15c45c70f5c9",
   "metadata": {},
   "outputs": [],
   "source": [
    "model = SentenceTransformer('sentence-transformers/all-MiniLM-L6-v2')"
   ]
  },
  {
   "cell_type": "code",
   "execution_count": 21,
   "id": "9b23a025-4c35-4d3a-96ad-b956cad37b0a",
   "metadata": {},
   "outputs": [
    {
     "data": {
      "text/plain": [
       "array([[-9.46715847e-02,  4.27620150e-02,  5.51621132e-02,\n",
       "        -5.10936254e-04,  1.16203148e-02, -6.80130273e-02,\n",
       "         2.76406072e-02,  6.06974177e-02,  2.88530160e-02,\n",
       "        -1.74128115e-02, -4.94346321e-02,  2.30993275e-02,\n",
       "        -1.28614334e-02, -4.31402065e-02,  2.17509847e-02,\n",
       "         4.26548868e-02,  5.10500744e-02, -7.79727548e-02,\n",
       "        -1.23247221e-01,  3.67455967e-02,  4.54117684e-03,\n",
       "         9.47938114e-02, -5.53098731e-02,  1.70641318e-02,\n",
       "        -2.92871688e-02, -4.47124690e-02,  2.06784140e-02,\n",
       "         6.39319941e-02,  2.27427911e-02,  4.87789661e-02,\n",
       "        -2.33494816e-03,  4.72858697e-02, -2.86259335e-02,\n",
       "         2.30624545e-02,  2.45129634e-02,  3.95681784e-02,\n",
       "        -4.33176793e-02, -1.02316633e-01,  2.79876171e-03,\n",
       "         2.39304136e-02,  1.61556918e-02, -8.99079721e-03,\n",
       "         2.07255855e-02,  6.40123338e-02,  6.89179003e-02,\n",
       "        -6.98361695e-02,  2.89760600e-03, -8.10989216e-02,\n",
       "         1.71122458e-02,  2.50655622e-03, -1.06529079e-01,\n",
       "        -4.87733670e-02, -1.67762153e-02, -2.28662249e-02,\n",
       "         1.14816569e-01,  4.87413295e-02, -1.64961778e-02,\n",
       "        -6.90832213e-02,  1.13612004e-01, -7.18484670e-02,\n",
       "        -9.01571140e-02,  3.92289030e-06, -8.66768882e-02,\n",
       "        -4.05916572e-02,  3.71317826e-02, -1.77618340e-02,\n",
       "        -5.57464249e-02, -4.57097664e-02, -5.43141253e-02,\n",
       "        -4.00612019e-02, -4.60227989e-02,  2.82194521e-02,\n",
       "        -2.33606640e-02,  1.44407256e-02, -1.52777052e-02,\n",
       "        -4.34328802e-02,  6.81274459e-02,  8.21894407e-02,\n",
       "         7.83896353e-03, -2.85973791e-02,  6.14310019e-02,\n",
       "        -4.92684543e-02,  3.27057205e-03, -2.72682495e-02,\n",
       "        -4.59346548e-02, -2.60167662e-02,  5.70650287e-02,\n",
       "        -5.86453651e-04, -4.37076464e-02, -2.47882388e-04,\n",
       "        -8.73550475e-02,  3.48776430e-02,  1.39327329e-02,\n",
       "        -1.60043593e-02,  2.86958609e-02, -9.48596001e-02,\n",
       "         9.40612778e-02,  5.92686087e-02, -8.65014121e-02,\n",
       "         1.45011485e-01,  2.35387776e-02,  3.43325250e-02,\n",
       "         2.51498539e-04,  7.15540797e-02, -3.12182829e-02,\n",
       "         3.86665612e-02, -2.47744154e-02,  6.52674511e-02,\n",
       "        -8.28817114e-02, -2.80246921e-02,  9.34542250e-03,\n",
       "        -7.85540696e-03,  5.30727841e-02,  2.96895783e-02,\n",
       "         3.27329710e-02,  4.94736768e-02,  2.52208635e-02,\n",
       "         4.67068478e-02,  5.03403507e-02, -7.23745152e-02,\n",
       "         2.54434515e-02, -3.67216580e-02,  1.27570024e-02,\n",
       "         1.46063846e-02,  2.11491901e-02, -5.56908809e-02,\n",
       "        -9.18510184e-03, -5.63395800e-34,  9.58769917e-02,\n",
       "         5.94578125e-02,  5.11445478e-02,  3.36359739e-02,\n",
       "        -1.34414528e-02, -2.77203675e-02, -3.48437130e-02,\n",
       "         1.80352274e-02, -2.53211521e-02,  6.73582312e-03,\n",
       "         5.47840483e-02, -3.60573977e-02, -5.20870090e-02,\n",
       "        -2.90345848e-02,  4.38958267e-03,  6.50023222e-02,\n",
       "         3.07485834e-02,  2.00220048e-02,  1.73046731e-03,\n",
       "         2.96725007e-03,  3.40954051e-03, -6.78144470e-02,\n",
       "         3.41304913e-02,  8.37862957e-03,  5.39905056e-02,\n",
       "         2.70389877e-02,  7.84119740e-02, -1.30136237e-01,\n",
       "         4.84649092e-02,  5.14179394e-02, -7.94681814e-03,\n",
       "         5.57883410e-03, -5.31025678e-02,  3.81298773e-02,\n",
       "        -3.05512976e-02, -7.69778490e-02,  1.20530585e-02,\n",
       "        -4.08994220e-02, -8.69358853e-02,  6.38056099e-02,\n",
       "         1.68675128e-02,  1.68731587e-03,  6.28895015e-02,\n",
       "        -1.67710949e-02,  2.15586033e-02,  7.09984335e-04,\n",
       "         2.81027355e-03, -8.89795553e-03, -1.80886481e-02,\n",
       "        -2.16216743e-02, -5.59150316e-02,  1.78774856e-02,\n",
       "        -9.27092731e-02,  7.27913901e-03, -1.27753571e-01,\n",
       "        -4.86938469e-02,  1.45872319e-02, -1.62751488e-02,\n",
       "         6.75622448e-02,  3.87702212e-02,  7.23294690e-02,\n",
       "         9.14991498e-02, -9.65291783e-02,  4.84791398e-02,\n",
       "        -1.06274091e-01, -1.05042392e-02,  8.90349299e-02,\n",
       "        -8.07525516e-02,  7.87081122e-02, -2.04916932e-02,\n",
       "        -5.55080436e-02, -3.31533030e-02, -2.14429460e-02,\n",
       "         4.94699404e-02, -7.05119297e-02,  6.63998276e-02,\n",
       "         7.39671588e-02, -2.70119868e-03,  1.62262525e-02,\n",
       "        -3.98228392e-02,  5.94092235e-02, -7.14361295e-03,\n",
       "        -3.33480053e-02,  2.30418574e-02,  1.87186599e-02,\n",
       "        -6.15724809e-02, -8.55353777e-04, -1.05786651e-01,\n",
       "        -8.43619555e-02, -3.92993614e-02, -3.16447094e-02,\n",
       "         6.60644174e-02,  9.41815898e-02, -8.35982561e-02,\n",
       "         9.50880349e-03,  1.25501425e-34,  6.38198331e-02,\n",
       "         2.11371295e-02, -1.65900253e-02,  1.88642088e-02,\n",
       "        -5.57018705e-02,  1.82803569e-03, -1.37587907e-02,\n",
       "         8.16278979e-02, -9.13296938e-02,  7.06855133e-02,\n",
       "         6.79992139e-02, -5.44536859e-02,  3.80394347e-02,\n",
       "         3.80506576e-03,  1.03689782e-01,  7.32747896e-04,\n",
       "         2.95661446e-02,  4.19423915e-02, -1.20444313e-01,\n",
       "         1.24932565e-02, -5.53506985e-02,  1.75228026e-02,\n",
       "        -2.28165090e-02, -5.79299293e-02,  9.42929648e-03,\n",
       "        -5.42279799e-03, -3.94947408e-03,  2.82348972e-02,\n",
       "        -1.28066972e-01, -1.31304478e-02,  7.42956102e-02,\n",
       "        -1.74529627e-02, -9.72758457e-02,  8.25621467e-03,\n",
       "         2.06901580e-02, -5.29769994e-03, -1.37696052e-02,\n",
       "        -3.50974724e-02,  1.74978375e-02, -1.76233612e-02,\n",
       "        -6.50825873e-02, -3.84676121e-02, -8.76397267e-02,\n",
       "         3.21291536e-02,  2.55018123e-03, -2.09378544e-02,\n",
       "         5.55310138e-02,  2.57094502e-02, -2.94735953e-02,\n",
       "         1.25047239e-02, -6.83466494e-02, -8.00624117e-02,\n",
       "        -1.46905808e-02,  1.03744874e-02, -8.51863548e-02,\n",
       "        -1.10538946e-02,  2.14596223e-02,  4.08608615e-02,\n",
       "         3.31647284e-02, -2.76757050e-02, -2.01877709e-02,\n",
       "         8.98878742e-03,  3.92048843e-02,  1.15103289e-01,\n",
       "         5.50441109e-02,  2.72754673e-02, -1.09526739e-01,\n",
       "        -1.72623564e-02,  1.33439004e-02, -1.73701402e-02,\n",
       "        -5.04370127e-03, -2.00292692e-02,  1.16672359e-01,\n",
       "        -1.84322447e-02,  3.70627493e-02,  1.60885733e-02,\n",
       "         3.48829851e-02,  5.50574847e-02, -6.60799583e-03,\n",
       "         7.06828460e-02,  4.07848731e-02, -1.43314246e-02,\n",
       "        -2.85443407e-03,  2.74252053e-02, -4.26769443e-02,\n",
       "         1.26583315e-02,  3.34343538e-02,  1.62644722e-02,\n",
       "         1.19263045e-02, -2.92118788e-02,  2.73977350e-02,\n",
       "         3.44304815e-02,  2.52832584e-02,  3.07513680e-02,\n",
       "         3.22557576e-02, -1.74628525e-08, -1.52691323e-02,\n",
       "         5.37681440e-03,  1.41246542e-01,  5.08366600e-02,\n",
       "         5.32257222e-02,  9.67938080e-02,  4.33674306e-02,\n",
       "        -6.48317393e-03,  1.58603378e-02,  4.05631140e-02,\n",
       "         6.94984347e-02,  6.04904927e-02, -6.26189113e-02,\n",
       "        -3.96144874e-02,  1.10648818e-01,  1.67735834e-02,\n",
       "        -7.68694328e-03,  2.59616375e-02, -5.28793037e-02,\n",
       "        -2.22319141e-02,  1.74595471e-02,  4.75340076e-02,\n",
       "         3.27674747e-02, -4.59684357e-02,  2.01770179e-02,\n",
       "        -1.60876159e-02, -1.58614106e-02, -1.66658219e-02,\n",
       "        -3.05246208e-02, -3.87907475e-02, -1.27654187e-02,\n",
       "         6.57610521e-02, -2.22502127e-02, -9.44988150e-03,\n",
       "         2.32079849e-02,  2.66038682e-02,  2.14204248e-02,\n",
       "        -7.54580367e-03,  8.84751901e-02, -9.43514332e-02,\n",
       "        -5.74870557e-02, -7.77099207e-02,  1.95785891e-03,\n",
       "        -1.50347492e-02, -8.08489695e-03,  1.88217815e-02,\n",
       "         8.42518453e-03, -3.78591977e-02,  1.24534722e-02,\n",
       "        -7.94995353e-02, -2.15790365e-02,  1.20276753e-02,\n",
       "         1.74870882e-02,  8.74479488e-02,  6.64091706e-02,\n",
       "         3.13737877e-02, -1.00628817e-02,  2.07700450e-02,\n",
       "        -5.20163588e-02, -8.91336426e-03,  1.48542270e-01,\n",
       "        -2.51256628e-03,  9.93156657e-02,  2.34929230e-02]], dtype=float32)"
      ]
     },
     "execution_count": 21,
     "metadata": {},
     "output_type": "execute_result"
    }
   ],
   "source": [
    "# Pass in a list of texts, get back a numpy array of vectors\n",
    "\n",
    "vector = model.encode([\"Well hi there\"])\n",
    "vector"
   ]
  },
  {
   "cell_type": "code",
   "execution_count": 22,
   "id": "8adde63f-e732-4f7c-bba9-f8b2a469f14e",
   "metadata": {},
   "outputs": [],
   "source": [
    "# Quick sidebar - extra to the videos - a function to compare vectors\n",
    "\n",
    "import numpy as np\n",
    "def cosine_similarity(a, b):\n",
    "    return np.dot(a, b) / (np.linalg.norm(a) * np.linalg.norm(b))\n",
    "\n",
    "def how_similar(text1, text2):\n",
    "    vector1, vector2 = model.encode([text1, text2])\n",
    "    similarity = cosine_similarity(vector1, vector2)\n",
    "    print(f\"Similarity between {text1} and {text2} is {similarity*100:.1f}%\")"
   ]
  },
  {
   "cell_type": "code",
   "execution_count": 23,
   "id": "2f9c8d19-6993-42e7-afd6-4c61ffc19419",
   "metadata": {
    "scrolled": true
   },
   "outputs": [
    {
     "name": "stdout",
     "output_type": "stream",
     "text": [
      "Similarity between Java and C++ is 50.7%\n",
      "Similarity between Java and mug is 25.8%\n",
      "Similarity between Cup of Java and mug is 49.3%\n"
     ]
    }
   ],
   "source": [
    "# And let's see how adding a few words to the context can change things up!\n",
    "\n",
    "how_similar(\"Java\", \"C++\")\n",
    "how_similar(\"Java\", \"mug\")\n",
    "how_similar(\"Cup of Java\", \"mug\")"
   ]
  },
  {
   "cell_type": "code",
   "execution_count": 28,
   "id": "38de1bf8-c9b5-45b4-9f4b-86af93b3f80d",
   "metadata": {},
   "outputs": [],
   "source": [
    "# OK back to the main story - let's make something we can vectorize\n",
    "\n",
    "def description(item):\n",
    "    text = item.prompt.replace(\"How much does this cost to the nearest dollar?\\n\\n\", \"\")\n",
    "    return text.split(\"\\n\\nPrice is $\")[0]"
   ]
  },
  {
   "cell_type": "code",
   "execution_count": 29,
   "id": "8c1205bd-4692-44ef-8ea4-69f255354537",
   "metadata": {},
   "outputs": [
    {
     "data": {
      "text/plain": [
       "'Delphi FG0166 Fuel Pump Module\\nDelphi brings 80 years of OE Heritage into each Delphi pump, ensuring quality and fitment for each Delphi part. Part is validated, tested and matched to the right vehicle application Delphi brings 80 years of OE Heritage into each Delphi assembly, ensuring quality and fitment for each Delphi part Always be sure to check and clean fuel tank to avoid unnecessary returns Rigorous OE-testing ensures the pump can withstand extreme temperatures Brand Delphi, Fit Type Vehicle Specific Fit, Dimensions LxWxH 19.7 x 7.7 x 5.1 inches, Weight 2.2 Pounds, Auto Part Position Unknown, Operation Mode Mechanical, Manufacturer Delphi, Model FUEL PUMP, Dimensions 19.7'"
      ]
     },
     "execution_count": 29,
     "metadata": {},
     "output_type": "execute_result"
    }
   ],
   "source": [
    "description(train[0])"
   ]
  },
  {
   "cell_type": "markdown",
   "id": "16b4ef1f-c696-4a01-b011-00fbccbc1a56",
   "metadata": {},
   "source": [
    "## Now we populate our RAG datastore\n",
    "\n",
    "The next cell populates the 400,000 items in Chroma.\n",
    "\n",
    "Feel free to reduce the number of documents if this takes too long! You can change to:  \n",
    "`NUMBER_OF_DOCUMENTS = 20000`  \n",
    "And that's plenty for a perfectly good RAG pipeline.\n",
    "\n",
    "Just note that if you interrupt the below cell while it's running, you might need to clear out the Chroma datastore (by rerunning the earlier cell that deletes the collection), before you run it again. Otherwise it will complain that there are existing documents with the same ID."
   ]
  },
  {
   "cell_type": "code",
   "execution_count": 30,
   "id": "8c79e2fe-1f50-4ebf-9a93-34f3088f2996",
   "metadata": {},
   "outputs": [
    {
     "name": "stderr",
     "output_type": "stream",
     "text": [
      "100%|███████████████████████████████████████████████████████████████████████████████████████████████████████████████████████████████████████████████████████████████████████████| 20/20 [20:04<00:00, 60.24s/it]\n"
     ]
    }
   ],
   "source": [
    "NUMBER_OF_DOCUMENTS = len(train)\n",
    "\n",
    "# Uncomment if you'd rather not wait for the full 400,000\n",
    "NUMBER_OF_DOCUMENTS = 20000\n",
    "\n",
    "for i in tqdm(range(0, NUMBER_OF_DOCUMENTS, 1000)):\n",
    "    documents = [description(item) for item in train[i: i+1000]]\n",
    "    vectors = model.encode(documents).astype(float).tolist()\n",
    "    metadatas = [{\"category\": item.category, \"price\": item.price} for item in train[i: i+1000]]\n",
    "    ids = [f\"doc_{j}\" for j in range(i, i+len(documents))]\n",
    "    collection.add(\n",
    "        ids=ids,\n",
    "        documents=documents,\n",
    "        embeddings=vectors,\n",
    "        metadatas=metadatas\n",
    "    )"
   ]
  },
  {
   "cell_type": "code",
   "execution_count": null,
   "id": "f04f1b20-05ed-461d-b728-d7729125502a",
   "metadata": {},
   "outputs": [],
   "source": []
  }
 ],
 "metadata": {
  "kernelspec": {
   "display_name": "Python 3 (ipykernel)",
   "language": "python",
   "name": "python3"
  },
  "language_info": {
   "codemirror_mode": {
    "name": "ipython",
    "version": 3
   },
   "file_extension": ".py",
   "mimetype": "text/x-python",
   "name": "python",
   "nbconvert_exporter": "python",
   "pygments_lexer": "ipython3",
   "version": "3.11.13"
  }
 },
 "nbformat": 4,
 "nbformat_minor": 5
}
